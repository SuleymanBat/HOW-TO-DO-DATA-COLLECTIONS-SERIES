{
 "cells": [
  {
   "cell_type": "markdown",
   "metadata": {},
   "source": [
    "Python provides an alternative way to do map and filter operations, called a list comprehension. Many programmers find them easier to understand and write. List comprehensions are concise ways to create lists from other lists. "
   ]
  },
  {
   "cell_type": "code",
   "execution_count": 1,
   "metadata": {},
   "outputs": [
    {
     "name": "stdout",
     "output_type": "stream",
     "text": [
      "[4, 10, 18]\n"
     ]
    }
   ],
   "source": [
    "things = [2,5,9]\n",
    "\n",
    "yourlist = [value*2 for value in things]\n",
    "\n",
    "print(yourlist)"
   ]
  },
  {
   "cell_type": "code",
   "execution_count": 2,
   "metadata": {},
   "outputs": [
    {
     "name": "stdout",
     "output_type": "stream",
     "text": [
      "[4, 6, 0]\n"
     ]
    }
   ],
   "source": [
    "def keep_evens(nums):\n",
    "    new_list = [num for num in nums if num % 2 == 0]\n",
    "    return new_list\n",
    "\n",
    "print(keep_evens([3,4,6,7,0,1]))"
   ]
  },
  {
   "cell_type": "markdown",
   "metadata": {},
   "source": [
    "You can also combine map and filter operations by chaining them together, or with a single list comprehension."
   ]
  },
  {
   "cell_type": "code",
   "execution_count": 8,
   "metadata": {},
   "outputs": [
    {
     "name": "stdout",
     "output_type": "stream",
     "text": [
      "<map object at 0x0000020BDF8610C8>\n",
      "[8, 12, 0]\n"
     ]
    }
   ],
   "source": [
    "things = [3, 4, 6, 7, 0, 1]\n",
    "#chaining together filter and map:\n",
    "# first, filter to keep only the even numbers\n",
    "# double each of them\n",
    "print(map(lambda x: x*2, filter(lambda y: y % 2 == 0, things)))\n",
    "\n",
    "# equivalent version using list comprehension\n",
    "print([x*2 for x in things if x % 2 == 0])"
   ]
  },
  {
   "cell_type": "code",
   "execution_count": 9,
   "metadata": {},
   "outputs": [
    {
     "name": "stdout",
     "output_type": "stream",
     "text": [
      "[10]\n"
     ]
    }
   ],
   "source": [
    "alist = [4,2,8,6,5]\n",
    "blist = [num*2 for num in alist if num%2==1]\n",
    "print(blist)"
   ]
  },
  {
   "cell_type": "code",
   "execution_count": 13,
   "metadata": {},
   "outputs": [
    {
     "name": "stdout",
     "output_type": "stream",
     "text": [
      "[12, 34, 21, 42]\n"
     ]
    }
   ],
   "source": [
    "##The for loop below produces a list of numbers greater than 10. Below the given code, use list comprehension to accomplish the same thing. Assign it the the variable lst. Only one line of code is needed.\n",
    "L = [12, 34, 21, 4, 6, 9, 42]\n",
    "lst = []\n",
    "for x in L:\n",
    "    if x > 10:\n",
    "        lst.append(x)\n",
    "print(lst)"
   ]
  },
  {
   "cell_type": "code",
   "execution_count": 12,
   "metadata": {},
   "outputs": [
    {
     "name": "stdout",
     "output_type": "stream",
     "text": [
      "[12, 34, 21, 42]\n"
     ]
    }
   ],
   "source": [
    "lst = [x for x in L if x > 10]\n",
    "print(lst)"
   ]
  },
  {
   "cell_type": "code",
   "execution_count": null,
   "metadata": {},
   "outputs": [],
   "source": []
  },
  {
   "cell_type": "markdown",
   "metadata": {},
   "source": [
    "Write code to assign to the variable \"compri\" all the values of the key \"name\" in any of the sub-dictionaries in the dictionary \"tester\". \n",
    "tester = {'info': [{\"name\": \"Lauren\", 'clas standing': 'Junior', 'major': \"Information Science\"},{'name':'Ayo','clas standing':\"Bachelor`s\",'major':'Information Science'},{'name':'Kathryn','clas standing':'Senior','major':'Sociology'},{'name':'Nick','clas standing','Junior','major':'Computer Science'},{'name':'Gladys','clas standing':'Sophomore','major':'History'},{'name':'Adam','class standing': 'Senior','major':'Violin Performance'}]\n",
    "Let`s do this using  a list comrehension."
   ]
  },
  {
   "cell_type": "code",
   "execution_count": 16,
   "metadata": {},
   "outputs": [
    {
     "name": "stdout",
     "output_type": "stream",
     "text": [
      "['Lauren', 'Ayo', 'Kathryn', 'Nick', 'Gladys', 'Adam']\n"
     ]
    }
   ],
   "source": [
    "tester = {'info': [{\"name\": \"Lauren\", 'class standing': 'Junior', 'major': \"Information Science\"},{'name': 'Ayo', 'class standing': \"Bachelor's\", 'major': 'Information Science'}, {'name': 'Kathryn', 'class standing': 'Senior', 'major': 'Sociology'}, {'name': 'Nick', 'class standing': 'Junior', 'major': 'Computer Science'}, {'name': 'Gladys', 'class standing': 'Sophomore', 'major': 'History'}, {'name': 'Adam', 'major': 'Violin Performance', 'class standing': 'Senior'}]}\n",
    "          \n",
    "compri = [dict_['name'] for dict_ in tester['info']]\n",
    "print(compri)"
   ]
  },
  {
   "cell_type": "code",
   "execution_count": null,
   "metadata": {},
   "outputs": [],
   "source": []
  }
 ],
 "metadata": {
  "kernelspec": {
   "display_name": "Python 3",
   "language": "python",
   "name": "python3"
  },
  "language_info": {
   "codemirror_mode": {
    "name": "ipython",
    "version": 3
   },
   "file_extension": ".py",
   "mimetype": "text/x-python",
   "name": "python",
   "nbconvert_exporter": "python",
   "pygments_lexer": "ipython3",
   "version": "3.7.6"
  }
 },
 "nbformat": 4,
 "nbformat_minor": 4
}
