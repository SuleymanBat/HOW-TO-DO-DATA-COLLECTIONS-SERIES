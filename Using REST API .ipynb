{
 "cells": [
  {
   "cell_type": "markdown",
   "metadata": {},
   "source": [
    "## How to Use a REST API"
   ]
  },
  {
   "cell_type": "markdown",
   "metadata": {},
   "source": [
    "Suppose you have learned about the existence of an API, and want to figure out how to use it. There are five questions that you’ll need to answer.\n",
    "\n",
    "What is the baseurl?\n",
    "\n",
    "What keys should you provide in the dictionary you pass for the params parameter?\n",
    "\n",
    "What values should you provide associated with those keys?\n",
    "\n",
    "Do you need to authenticate yourself as a licensed user of the API and, if so, how?\n",
    "\n",
    "What is the structure and meaning of the data that will be provided?\n",
    "\n",
    "The answers to these questions always depend on design choices made by the service provider who is running the server. Thus, the official documentation they provide will usually be the most helpful. It may also be helpful to find example code snippets or full URLs and responses; if you don’t find that in the documentation, you may want to search for it on Google or StackOverflow."
   ]
  },
  {
   "cell_type": "markdown",
   "metadata": {},
   "source": [
    "## How to make repeated invocations. Let`s see."
   ]
  },
  {
   "cell_type": "markdown",
   "metadata": {},
   "source": [
    "Suppose you were writing a computer program that was going to automatically translate paragraphs of text into paragraphs with similar meanings but with more rhymes. You would want to contact the datamuse API repeatedly, passing different values associated with the key rel_rhy. Let’s make a python function to do that. You can think of it as a wrapper for the call to requests.get."
   ]
  },
  {
   "cell_type": "code",
   "execution_count": 1,
   "metadata": {},
   "outputs": [],
   "source": [
    "# import statements for necessary Python modules\n",
    "import requests"
   ]
  },
  {
   "cell_type": "code",
   "execution_count": 2,
   "metadata": {},
   "outputs": [
    {
     "name": "stdout",
     "output_type": "stream",
     "text": [
      "['money', 'honey', 'sunny']\n",
      "['cache', 'flash', 'ash']\n"
     ]
    }
   ],
   "source": [
    "def get_rhymes(word):\n",
    "    baseurl = \"https://api.datamuse.com/words\"\n",
    "    params_diction = {} # Set up on emty dictionary for query parameter\n",
    "    params_diction[\"rel_rhy\"] = word\n",
    "    params_diction[\"max\"] = '3' # get at most 3 results\n",
    "    resp = requests.get(baseurl, params=params_diction)\n",
    "    #return the top three words\n",
    "    word_ds = resp.json()\n",
    "    return [d['word'] for d in word_ds]\n",
    "\n",
    "print(get_rhymes(\"funny\"))\n",
    "print(get_rhymes(\"dash\"))"
   ]
  },
  {
   "cell_type": "markdown",
   "metadata": {},
   "source": [
    "## For returning a list of Phyton objects"
   ]
  },
  {
   "cell_type": "code",
   "execution_count": 4,
   "metadata": {},
   "outputs": [
    {
     "name": "stdout",
     "output_type": "stream",
     "text": [
      "[{'word': 'money', 'score': 4415, 'numSyllables': 2}, {'word': 'honey', 'score': 1206, 'numSyllables': 2}, {'word': 'sunny', 'score': 717, 'numSyllables': 2}]\n",
      "[{'word': 'cache', 'score': 2373, 'numSyllables': 1}, {'word': 'flash', 'score': 2144, 'numSyllables': 1}, {'word': 'ash', 'score': 2051, 'numSyllables': 1}]\n"
     ]
    }
   ],
   "source": [
    "def get_rhymes(word):\n",
    "    baseurl = \"https://api.datamuse.com/words\"\n",
    "    params_diction = {} # Set up on emty dictionary for query parameter\n",
    "    params_diction[\"rel_rhy\"] = word\n",
    "    params_diction[\"max\"] = '3' # get at most 3 results\n",
    "    resp = requests.get(baseurl, params=params_diction)\n",
    "    #return the top three words\n",
    "    word_ds = resp.json()\n",
    "    return resp.json() # For returning a list of Phyton objects(dictionaries)\n",
    "\n",
    "\n",
    "print(get_rhymes(\"funny\"))\n",
    "print(get_rhymes(\"dash\"))"
   ]
  },
  {
   "cell_type": "markdown",
   "metadata": {},
   "source": [
    "Q: Why would you define a function in order to use REST API for data?"
   ]
  },
  {
   "cell_type": "markdown",
   "metadata": {},
   "source": [
    "A: \n",
    "\n",
    "→→ Because that means you have to write less repeated code if you want to make a request to the same API more than once in the same program.\n",
    "\n",
    "→→ Because writing functions to complete a complex process in your code makes it easier to read and easier to fix later.\n",
    "\n",
    "→→ Because a lot of things stay the same among different requests to the same API.For example, the base URL is often the same, but perhaps you want a query parameter to have a different value for a new request. A function can help with that."
   ]
  },
  {
   "cell_type": "code",
   "execution_count": null,
   "metadata": {},
   "outputs": [],
   "source": []
  }
 ],
 "metadata": {
  "kernelspec": {
   "display_name": "Python 3",
   "language": "python",
   "name": "python3"
  },
  "language_info": {
   "codemirror_mode": {
    "name": "ipython",
    "version": 3
   },
   "file_extension": ".py",
   "mimetype": "text/x-python",
   "name": "python",
   "nbconvert_exporter": "python",
   "pygments_lexer": "ipython3",
   "version": "3.7.6"
  }
 },
 "nbformat": 4,
 "nbformat_minor": 4
}
