{
 "cells": [
  {
   "cell_type": "code",
   "execution_count": 4,
   "metadata": {},
   "outputs": [],
   "source": [
    "import pandas as pd\n",
    "import numpy as np"
   ]
  },
  {
   "cell_type": "markdown",
   "metadata": {},
   "source": [
    "## Map\n",
    "\n",
    "The following function produces a new list with each item in the original list doubled. It is an example of a mapping, from the original list to a new list of the same length."
   ]
  },
  {
   "cell_type": "code",
   "execution_count": 8,
   "metadata": {},
   "outputs": [
    {
     "name": "stdout",
     "output_type": "stream",
     "text": [
      "[2, 5, 9]\n",
      "[4, 10, 18]\n"
     ]
    }
   ],
   "source": [
    "def doubleStuff(a_list):\n",
    "    '''Return a new list in which contains doubles of the elements in a_list.'''\n",
    "    new_list = []\n",
    "    for value in a_list:\n",
    "        new_elem = 2*value\n",
    "        new_list.append(new_elem)\n",
    "    return new_list\n",
    "\n",
    "things = [2,5,9]\n",
    "print(things)\n",
    "things = doubleStuff(things)\n",
    "print(things)"
   ]
  },
  {
   "cell_type": "code",
   "execution_count": 18,
   "metadata": {},
   "outputs": [
    {
     "name": "stdout",
     "output_type": "stream",
     "text": [
      "[6, 15, 27]\n",
      "[8, 20, 36]\n"
     ]
    }
   ],
   "source": [
    "def triple(value):\n",
    "    return 3*value\n",
    "\n",
    "\n",
    "def tripleStuff(a_list):\n",
    "    new_list = list(map(triple, a_list))\n",
    "    return new_list\n",
    "\n",
    "\n",
    "def quadrupleStuff(a_list):\n",
    "    new_list = list(map(lambda value: 4*value, a_list))\n",
    "    return new_list\n",
    "\n",
    "things = [2,5,9]\n",
    "things3 = tripleStuff(things)\n",
    "print(things3)\n",
    "\n",
    "things4 = quadrupleStuff(things)\n",
    "print(things4)"
   ]
  },
  {
   "cell_type": "markdown",
   "metadata": {},
   "source": [
    "Below I have provided a list of strings called 'abbrevs'. Use map to produce a new list called 'abbrevs_upper' that contains all the same strings in upper case."
   ]
  },
  {
   "cell_type": "code",
   "execution_count": 11,
   "metadata": {},
   "outputs": [],
   "source": [
    "abbrevs = ['usa','esp','chn','jpn','mex','can','rus','rsa','jam']"
   ]
  },
  {
   "cell_type": "code",
   "execution_count": 19,
   "metadata": {},
   "outputs": [
    {
     "name": "stdout",
     "output_type": "stream",
     "text": [
      "['USA', 'ESP', 'CHN', 'JPN', 'MEX', 'CAN', 'RUS', 'RSA', 'JAM']\n"
     ]
    }
   ],
   "source": [
    "abbrevs = ['usa','esp','chn','jpn','mex','can','rus','rsa','jam']\n",
    "\n",
    "def f(st):\n",
    "    return st.upper()\n",
    "\n",
    "abbrevs_upper = list(map(f,abbrevs ))\n",
    "print(abbrevs_upper)"
   ]
  },
  {
   "cell_type": "code",
   "execution_count": 20,
   "metadata": {},
   "outputs": [
    {
     "name": "stdout",
     "output_type": "stream",
     "text": [
      "['USA', 'ESP', 'CHN', 'JPN', 'MEX', 'CAN', 'RUS', 'RSA', 'JAM']\n"
     ]
    }
   ],
   "source": [
    "print(abbrevs_upper)"
   ]
  },
  {
   "cell_type": "code",
   "execution_count": 21,
   "metadata": {},
   "outputs": [
    {
     "name": "stdout",
     "output_type": "stream",
     "text": [
      "['USA', 'ESP', 'CHN', 'JPN', 'MEX', 'CAN', 'RUS', 'RSA', 'JAM']\n"
     ]
    }
   ],
   "source": [
    "abbrevs = ['usa','esp','chn','jpn','mex','can','rus','rsa','jam']\n",
    "\n",
    "def f(st):\n",
    "    return st.upper()\n",
    "\n",
    "abbrevs_upper = list(map(lambda st: st.upper(),abbrevs ))\n",
    "print(abbrevs_upper)"
   ]
  },
  {
   "cell_type": "code",
   "execution_count": 22,
   "metadata": {},
   "outputs": [
    {
     "name": "stdout",
     "output_type": "stream",
     "text": [
      "['US', 'ES', 'CH', 'JP', 'ME', 'CA', 'RU', 'RS', 'JA']\n"
     ]
    }
   ],
   "source": [
    "abbrevs = ['usa','esp','chn','jpn','mex','can','rus','rsa','jam']\n",
    "\n",
    "def f(st):\n",
    "    return st.upper()\n",
    "\n",
    "abbrevs_upper = list(map(lambda st: st[:2].upper(),abbrevs ))\n",
    "print(abbrevs_upper)"
   ]
  },
  {
   "cell_type": "code",
   "execution_count": 23,
   "metadata": {},
   "outputs": [
    {
     "name": "stdout",
     "output_type": "stream",
     "text": [
      "['U', 'E', 'C', 'J', 'M', 'C', 'R', 'R', 'J']\n"
     ]
    }
   ],
   "source": [
    "abbrevs = ['usa','esp','chn','jpn','mex','can','rus','rsa','jam']\n",
    "\n",
    "def f(st):\n",
    "    return st.upper()\n",
    "\n",
    "abbrevs_upper = list(map(lambda st: st[:1].upper(),abbrevs ))\n",
    "print(abbrevs_upper)"
   ]
  },
  {
   "cell_type": "code",
   "execution_count": 24,
   "metadata": {},
   "outputs": [
    {
     "name": "stdout",
     "output_type": "stream",
     "text": [
      "[8, 20, 36]\n"
     ]
    }
   ],
   "source": [
    "things = [2,5,9]\n",
    "things4 = list(map((lambda value: 4*value), things))\n",
    "print(things4)"
   ]
  },
  {
   "cell_type": "code",
   "execution_count": 25,
   "metadata": {},
   "outputs": [
    {
     "name": "stdout",
     "output_type": "stream",
     "text": [
      "[5, 10, 15]\n"
     ]
    }
   ],
   "source": [
    "print(list(map((lambda value: 5*value), [1,2,3])))"
   ]
  },
  {
   "cell_type": "markdown",
   "metadata": {},
   "source": [
    "## Check Your Understanding"
   ]
  },
  {
   "cell_type": "markdown",
   "metadata": {},
   "source": [
    "Using map, create a list assigned to the variable greeting_doubled that doubles each element in the list lst."
   ]
  },
  {
   "cell_type": "code",
   "execution_count": 26,
   "metadata": {},
   "outputs": [],
   "source": [
    "lst = [[\"hi\", \"bye\"], \"hello\", \"goodbye\", [9, 2], 4]\n"
   ]
  },
  {
   "cell_type": "code",
   "execution_count": 27,
   "metadata": {},
   "outputs": [
    {
     "name": "stdout",
     "output_type": "stream",
     "text": [
      "[['hi', 'bye', 'hi', 'bye'], 'hellohello', 'goodbyegoodbye', [9, 2, 9, 2], 8]\n"
     ]
    }
   ],
   "source": [
    "def f(k):\n",
    "    return k*2\n",
    "\n",
    "greeting_doubled = list(map(f,lst))\n",
    "print(greeting_doubled)"
   ]
  },
  {
   "cell_type": "code",
   "execution_count": null,
   "metadata": {},
   "outputs": [],
   "source": []
  }
 ],
 "metadata": {
  "kernelspec": {
   "display_name": "Python 3",
   "language": "python",
   "name": "python3"
  },
  "language_info": {
   "codemirror_mode": {
    "name": "ipython",
    "version": 3
   },
   "file_extension": ".py",
   "mimetype": "text/x-python",
   "name": "python",
   "nbconvert_exporter": "python",
   "pygments_lexer": "ipython3",
   "version": "3.7.6"
  }
 },
 "nbformat": 4,
 "nbformat_minor": 4
}
